{
 "cells": [
  {
   "cell_type": "code",
   "execution_count": 1,
   "metadata": {
    "collapsed": false
   },
   "outputs": [
    {
     "data": {
      "text/plain": [
       "<pyspark.context.SparkContext at 0x1051e00d0>"
      ]
     },
     "execution_count": 1,
     "metadata": {},
     "output_type": "execute_result"
    }
   ],
   "source": [
    "sc"
   ]
  },
  {
   "cell_type": "code",
   "execution_count": 2,
   "metadata": {
    "collapsed": true
   },
   "outputs": [],
   "source": [
    "archivoCargar = sc.textFile(\"/Users/juandavid/Documents/medline_data/datafinal/part-00000\")"
   ]
  },
  {
   "cell_type": "code",
   "execution_count": 6,
   "metadata": {
    "collapsed": false
   },
   "outputs": [],
   "source": [
    "datosDouble = archivoCargar.map(lambda x : float(x))"
   ]
  },
  {
   "cell_type": "code",
   "execution_count": 7,
   "metadata": {
    "collapsed": false
   },
   "outputs": [
    {
     "data": {
      "text/plain": [
       "[1.0]"
      ]
     },
     "execution_count": 7,
     "metadata": {},
     "output_type": "execute_result"
    }
   ],
   "source": [
    "datosDouble.take(1)"
   ]
  },
  {
   "cell_type": "code",
   "execution_count": 16,
   "metadata": {
    "collapsed": false
   },
   "outputs": [],
   "source": [
    "listadoNumeros = datosDouble.collect()"
   ]
  },
  {
   "cell_type": "code",
   "execution_count": 10,
   "metadata": {
    "collapsed": false
   },
   "outputs": [],
   "source": [
    "import numpy as np\n",
    "import pymc as pm"
   ]
  },
  {
   "cell_type": "code",
   "execution_count": 41,
   "metadata": {
    "collapsed": true
   },
   "outputs": [],
   "source": [
    "\n",
    "prior_data2 = pm.Gamma('pri2', alpha=0.1, beta=0.1)\n",
    "\n"
   ]
  },
  {
   "cell_type": "code",
   "execution_count": 42,
   "metadata": {
    "collapsed": false
   },
   "outputs": [],
   "source": [
    "p = pm.Poisson('poi2', prior_data2, value=listadoNumeros, observed=True)\n"
   ]
  },
  {
   "cell_type": "code",
   "execution_count": 43,
   "metadata": {
    "collapsed": false
   },
   "outputs": [
    {
     "name": "stdout",
     "output_type": "stream",
     "text": [
      " [-----------------100%-----------------] 200 of 200 complete in 11.9 sec"
     ]
    }
   ],
   "source": [
    "M = pm.MCMC([prior_data2,p])\n",
    "M.sample(iter=200, burn=10)"
   ]
  },
  {
   "cell_type": "code",
   "execution_count": 44,
   "metadata": {
    "collapsed": false
   },
   "outputs": [],
   "source": [
    "from pymc.Matplot import plot"
   ]
  },
  {
   "cell_type": "code",
   "execution_count": 45,
   "metadata": {
    "collapsed": false
   },
   "outputs": [
    {
     "name": "stdout",
     "output_type": "stream",
     "text": [
      "Plotting pri2\n"
     ]
    }
   ],
   "source": [
    "plot(M)"
   ]
  },
  {
   "cell_type": "code",
   "execution_count": 46,
   "metadata": {
    "collapsed": false
   },
   "outputs": [
    {
     "data": {
      "text/plain": [
       "array([ 1.01866043,  1.01866043,  1.01866043,  1.01866043,  1.01866043,\n",
       "        1.01866043,  1.10140197,  1.10140197,  1.10140197,  1.10140197,\n",
       "        1.10140197,  1.10140197,  1.10140197,  1.10140197,  1.10140197,\n",
       "        1.10140197,  1.10140197,  1.10140197,  1.10140197,  1.10140197,\n",
       "        1.10140197,  1.10140197,  1.10140197,  1.10140197,  1.10140197,\n",
       "        1.10140197,  1.10140197,  1.10140197,  1.10140197,  1.10140197,\n",
       "        1.10140197,  1.10140197,  1.10140197,  1.10140197,  1.10140197,\n",
       "        1.10140197,  1.10140197,  1.10140197,  1.10140197,  1.10140197,\n",
       "        1.10140197,  1.10140197,  1.10140197,  1.10140197,  1.10140197,\n",
       "        1.10140197,  1.10140197,  1.10140197,  1.10140197,  1.10140197,\n",
       "        1.10140197,  1.10140197,  1.10140197,  1.10140197,  1.10140197,\n",
       "        1.10140197,  1.10140197,  1.10140197,  1.10140197,  1.10140197,\n",
       "        1.10140197,  1.10140197,  1.10140197,  1.10140197,  1.10140197,\n",
       "        1.10140197,  1.10140197,  1.10140197,  1.10140197,  1.10140197,\n",
       "        1.10140197,  1.10140197,  1.10140197,  1.10140197,  1.10140197,\n",
       "        1.10140197,  1.10140197,  1.10140197,  1.10140197,  1.10140197,\n",
       "        1.10140197,  1.10140197,  1.10140197,  1.10140197,  1.10140197,\n",
       "        1.10140197,  1.10140197,  1.10469928,  1.10469928,  1.10469928,\n",
       "        1.10469928,  1.10469928,  1.10469928,  1.10469928,  1.10469928,\n",
       "        1.10469928,  1.10469928,  1.10469928,  1.10469928,  1.10469928,\n",
       "        1.10469928,  1.10469928,  1.10469928,  1.10469928,  1.10469928,\n",
       "        1.10469928,  1.10469928,  1.10469928,  1.10469928,  1.12064223,\n",
       "        1.12064223,  1.12064223,  1.12064223,  1.12064223,  1.12064223,\n",
       "        1.12064223,  1.12064223,  1.12064223,  1.12064223,  1.12064223,\n",
       "        1.12064223,  1.1205667 ,  1.1205667 ,  1.1205667 ,  1.1205667 ,\n",
       "        1.1205667 ,  1.1205667 ,  1.1205667 ,  1.1205667 ,  1.1205667 ,\n",
       "        1.1205667 ,  1.1205667 ,  1.11417918,  1.11417918,  1.11417918,\n",
       "        1.11417918,  1.11417918,  1.11417918,  1.11417918,  1.11417918,\n",
       "        1.11417918,  1.11417918,  1.11417918,  1.11417918,  1.11417918,\n",
       "        1.11417918,  1.11417918,  1.11417918,  1.11417918,  1.11417918,\n",
       "        1.11417918,  1.11417918,  1.11417918,  1.11417918,  1.11417918,\n",
       "        1.11417918,  1.11417918,  1.11417918,  1.11417918,  1.11417918,\n",
       "        1.11417918,  1.11417918,  1.11417918,  1.11417918,  1.11417918,\n",
       "        1.11417918,  1.11417918,  1.11417918,  1.11417918,  1.11417918,\n",
       "        1.11417918,  1.11417918,  1.11417918,  1.11417918,  1.11417918,\n",
       "        1.11417918,  1.11417918,  1.11417918,  1.11417918,  1.11417918,\n",
       "        1.11417918,  1.11417918,  1.11417918,  1.11417918,  1.11417918,\n",
       "        1.11417918,  1.11417918,  1.11417918,  1.11417918,  1.11417918])"
      ]
     },
     "execution_count": 46,
     "metadata": {},
     "output_type": "execute_result"
    }
   ],
   "source": [
    "M.trace('pri2')[:]"
   ]
  },
  {
   "cell_type": "code",
   "execution_count": null,
   "metadata": {
    "collapsed": true
   },
   "outputs": [],
   "source": []
  }
 ],
 "metadata": {
  "kernelspec": {
   "display_name": "Python 2",
   "language": "python",
   "name": "python2"
  },
  "language_info": {
   "codemirror_mode": {
    "name": "ipython",
    "version": 2
   },
   "file_extension": ".py",
   "mimetype": "text/x-python",
   "name": "python",
   "nbconvert_exporter": "python",
   "pygments_lexer": "ipython2",
   "version": "2.7.10"
  }
 },
 "nbformat": 4,
 "nbformat_minor": 0
}
