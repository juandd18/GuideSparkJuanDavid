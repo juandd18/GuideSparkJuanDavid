{
 "cells": [
  {
   "cell_type": "code",
   "execution_count": 1,
   "metadata": {
    "collapsed": false
   },
   "outputs": [
    {
     "data": {
      "text/plain": [
       "<pyspark.context.SparkContext at 0x7f68676ec910>"
      ]
     },
     "execution_count": 1,
     "metadata": {},
     "output_type": "execute_result"
    }
   ],
   "source": [
    "sc"
   ]
  },
  {
   "cell_type": "code",
   "execution_count": 2,
   "metadata": {
    "collapsed": true
   },
   "outputs": [],
   "source": [
    "from pyspark.sql import SQLContext"
   ]
  },
  {
   "cell_type": "code",
   "execution_count": 9,
   "metadata": {
    "collapsed": true
   },
   "outputs": [],
   "source": [
    "sqlContext = SQLContext(sc)"
   ]
  },
  {
   "cell_type": "code",
   "execution_count": 10,
   "metadata": {
    "collapsed": false
   },
   "outputs": [
    {
     "data": {
      "text/plain": [
       "DataFrame[]"
      ]
     },
     "execution_count": 10,
     "metadata": {},
     "output_type": "execute_result"
    }
   ],
   "source": [
    "sqlContext.sql(\"CREATE TEMPORARY TABLE tweet_table USING com.stratio.datasource.mongodb OPTIONS (host 'localhost:27017', database 'twtr01_db', collection 'twtr01_coll')\")"
   ]
  },
  {
   "cell_type": "code",
   "execution_count": 16,
   "metadata": {
    "collapsed": false,
    "scrolled": true
   },
   "outputs": [],
   "source": [
    "spdf_in = sqlContext.sql(\"SELECT * FROM tweet_table WHERE id=682934358446059520\")"
   ]
  },
  {
   "cell_type": "code",
   "execution_count": 18,
   "metadata": {
    "collapsed": false
   },
   "outputs": [
    {
     "name": "stdout",
     "output_type": "stream",
     "text": [
      "+---------------+----+---------------------+-----------------------+--------------------+-----------------------+--------------------+--------------------+--------------------+------------+------------------+---------+---------+----------------+-----+--------------------+---------+------------------+-----------+--------------+----+-------------------+-----------+-------------------------+------------------+-------------+--------------------+\n",
      "|is_quote_status|lang|in_reply_to_status_id|in_reply_to_screen_name|                text|in_reply_to_user_id_str|              source|                 _id|          created_at|contributors|            id_str|retweeted|truncated|retweeted_status|place|                user|favorited|                id|coordinates|favorite_count| geo|in_reply_to_user_id|   metadata|in_reply_to_status_id_str|possibly_sensitive|retweet_count|            entities|\n",
      "+---------------+----+---------------------+-----------------------+--------------------+-----------------------+--------------------+--------------------+--------------------+------------+------------------+---------+---------+----------------+-----+--------------------+---------+------------------+-----------+--------------+----+-------------------+-----------+-------------------------+------------------+-------------+--------------------+\n",
      "|          false|  en|                 null|                   null|Lovely piece on @...|                   null|<a href=\"http://t...|568698b25395f90a5...|Fri Jan 01 14:40:...|        null|682934358446059520|    false|    false|            null| null|[false,Thu Mar 05...|    false|682934358446059520|       null|             0|null|               null|[en,recent]|                     null|             false|            0|[WrappedArray(),n...|\n",
      "+---------------+----+---------------------+-----------------------+--------------------+-----------------------+--------------------+--------------------+--------------------+------------+------------------+---------+---------+----------------+-----+--------------------+---------+------------------+-----------+--------------+----+-------------------+-----------+-------------------------+------------------+-------------+--------------------+\n",
      "\n"
     ]
    }
   ],
   "source": [
    "spdf_in.show()"
   ]
  },
  {
   "cell_type": "code",
   "execution_count": null,
   "metadata": {
    "collapsed": true
   },
   "outputs": [],
   "source": []
  }
 ],
 "metadata": {
  "kernelspec": {
   "display_name": "Python 2",
   "language": "python",
   "name": "python2"
  },
  "language_info": {
   "codemirror_mode": {
    "name": "ipython",
    "version": 2
   },
   "file_extension": ".py",
   "mimetype": "text/x-python",
   "name": "python",
   "nbconvert_exporter": "python",
   "pygments_lexer": "ipython2",
   "version": "2.7.11"
  }
 },
 "nbformat": 4,
 "nbformat_minor": 0
}
