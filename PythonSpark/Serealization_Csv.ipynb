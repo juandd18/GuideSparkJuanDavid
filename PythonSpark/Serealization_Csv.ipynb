{
 "cells": [
  {
   "cell_type": "code",
   "execution_count": 1,
   "metadata": {
    "collapsed": true
   },
   "outputs": [],
   "source": [
    "class IO_csv(object):\n",
    "    def __init__(self, filepath, filename, filesuffix='csv'):\n",
    "        self.filepath = filepath # /path/to/file without the /' at the end\n",
    "        self.filename = filename # FILE_NAME\n",
    "        self.filesuffix = filesuffix\n",
    "    \n",
    "    def save(self, data, NTname, fields):\n",
    "        # NTname = Name of the NamedTuple\n",
    "        # fields = header of CSV - list of the fields name\n",
    "        NTuple = namedtuple(NTname, fields)\n",
    "        \n",
    "        if os.path.isfile('{0}/{1}.{2}'.format(self.filepath, self.filename, self.filesuffix)):\n",
    "            # Append existing file\n",
    "            with open('{0}/{1}.{2}'.format(self.filepath, self.filename, self.filesuffix), 'ab') as f:\n",
    "                writer = csv.writer(f)\n",
    "                # writer.writerow(fields) # fields = header of CSV\n",
    "                writer.writerows([row for row in map(NTuple._make, data)])\n",
    "                # list comprehension using map on the NamedTuple._make() iterable and the data file to be saved\n",
    "                # Notice writer.writerows and not writer.writerow (i.e. list of multiple rows sent to csv file\n",
    "        else:\n",
    "            # Create new file\n",
    "            with open('{0}/{1}.{2}'.format(self.filepath, self.filename, self.filesuffix), 'wb') as f:\n",
    "                writer = csv.writer(f)\n",
    "                writer.writerow(fields) # fields = header of CSV - list of the fields name\n",
    "                writer.writerows([row for row in map(NTuple._make, data)])\n",
    "                # list comprehension using map on the NamedTuple._make() iterable and the data file to be saved\n",
    "                # Notice writer.writerows and not writer.writerow (i.e. list of multiple rows sent to csv file\n",
    "\n",
    "    def load(self, NTname, fields):\n",
    "        # NTname = Name of the NamedTuple\n",
    "        # fields = header of CSV - list of the fields name\n",
    "        NTuple = namedtuple(NTname, fields)\n",
    "        with open('{0}/{1}.{2}'.format(self.filepath, self.filename, self.filesuffix),'rU') as f:\n",
    "            reader = csv.reader(f)\n",
    "            for row in map(NTuple._make, reader):\n",
    "                # Using map on the NamedTuple._make() iterable and the reader file to be loaded\n",
    "                yield row\n",
    "                \n",
    "            \n",
    "            "
   ]
  },
  {
   "cell_type": "code",
   "execution_count": 2,
   "metadata": {
    "collapsed": false
   },
   "outputs": [
    {
     "ename": "NameError",
     "evalue": "name 'namedtuple' is not defined",
     "output_type": "error",
     "traceback": [
      "\u001b[1;31m---------------------------------------------------------------------------\u001b[0m",
      "\u001b[1;31mNameError\u001b[0m                                 Traceback (most recent call last)",
      "\u001b[1;32m<ipython-input-2-2756e53d4898>\u001b[0m in \u001b[0;36m<module>\u001b[1;34m()\u001b[0m\n\u001b[0;32m      1\u001b[0m \u001b[1;31m#parse the tweet and create the schema\u001b[0m\u001b[1;33m\u001b[0m\u001b[1;33m\u001b[0m\u001b[0m\n\u001b[0;32m      2\u001b[0m \u001b[0mfields01\u001b[0m \u001b[1;33m=\u001b[0m \u001b[1;33m[\u001b[0m\u001b[1;34m'id'\u001b[0m\u001b[1;33m,\u001b[0m \u001b[1;34m'created_at'\u001b[0m\u001b[1;33m,\u001b[0m \u001b[1;34m'user_id'\u001b[0m\u001b[1;33m,\u001b[0m \u001b[1;34m'user_name'\u001b[0m\u001b[1;33m,\u001b[0m \u001b[1;34m'tweet_text'\u001b[0m\u001b[1;33m,\u001b[0m \u001b[1;34m'url'\u001b[0m\u001b[1;33m]\u001b[0m\u001b[1;33m\u001b[0m\u001b[0m\n\u001b[1;32m----> 3\u001b[1;33m \u001b[0mTweet01\u001b[0m \u001b[1;33m=\u001b[0m \u001b[0mnamedtuple\u001b[0m\u001b[1;33m(\u001b[0m\u001b[1;34m'Tweet01'\u001b[0m\u001b[1;33m,\u001b[0m\u001b[0mfields01\u001b[0m\u001b[1;33m)\u001b[0m\u001b[1;33m\u001b[0m\u001b[0m\n\u001b[0m\u001b[0;32m      4\u001b[0m \u001b[1;33m\u001b[0m\u001b[0m\n\u001b[0;32m      5\u001b[0m \u001b[1;32mdef\u001b[0m \u001b[0mparse_tweet\u001b[0m\u001b[1;33m(\u001b[0m\u001b[0mdata\u001b[0m\u001b[1;33m)\u001b[0m\u001b[1;33m:\u001b[0m\u001b[1;33m\u001b[0m\u001b[0m\n",
      "\u001b[1;31mNameError\u001b[0m: name 'namedtuple' is not defined"
     ]
    }
   ],
   "source": [
    "#parse the tweet and create the schema\n",
    "fields01 = ['id', 'created_at', 'user_id', 'user_name', 'tweet_text', 'url']\n",
    "Tweet01 = namedtuple('Tweet01',fields01)\n",
    "\n",
    "def parse_tweet(data):\n",
    "    #\"\"\"\n",
    "    #Parse a ``tweet`` from the given response data.\n",
    "    #\"\"\"\n",
    "    return Tweet01(id=data.get('id', None),\n",
    "    created_at=data.get('created_at', None),\n",
    "    user_id=data.get('user_id', None),\n",
    "    user_name=data.get('user_name', None),\n",
    "    tweet_text=data.get('tweet_text', None),\n",
    "    url=data.get('url')\n",
    "    )\n"
   ]
  },
  {
   "cell_type": "code",
   "execution_count": null,
   "metadata": {
    "collapsed": true
   },
   "outputs": [],
   "source": []
  }
 ],
 "metadata": {
  "kernelspec": {
   "display_name": "Python 2",
   "language": "python",
   "name": "python2"
  },
  "language_info": {
   "codemirror_mode": {
    "name": "ipython",
    "version": 2
   },
   "file_extension": ".py",
   "mimetype": "text/x-python",
   "name": "python",
   "nbconvert_exporter": "python",
   "pygments_lexer": "ipython2",
   "version": "2.7.11"
  }
 },
 "nbformat": 4,
 "nbformat_minor": 0
}
