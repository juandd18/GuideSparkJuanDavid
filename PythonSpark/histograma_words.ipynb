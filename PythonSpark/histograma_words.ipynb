{
 "cells": [
  {
   "cell_type": "markdown",
   "metadata": {},
   "source": [
    "# comienza ejemplo lectura de archivo y histogram"
   ]
  },
  {
   "cell_type": "code",
   "execution_count": 1,
   "metadata": {
    "collapsed": true
   },
   "outputs": [],
   "source": [
    "#import regex\n",
    "import re\n",
    "#import module add\n",
    "from operator import add\n"
   ]
  },
  {
   "cell_type": "code",
   "execution_count": 2,
   "metadata": {
    "collapsed": true
   },
   "outputs": [],
   "source": [
    "#read file\n",
    "file_in = sc.textFile(\"/home/juandavid/Documentos/datosLibro/filechapter1.txt\")\n"
   ]
  },
  {
   "cell_type": "code",
   "execution_count": 5,
   "metadata": {
    "collapsed": false
   },
   "outputs": [
    {
     "name": "stdout",
     "output_type": "stream",
     "text": [
      "the number of lines is: 53\n"
     ]
    }
   ],
   "source": [
    "#count number of lines\n",
    "print('the number of lines is: %s'% file_in.count())"
   ]
  },
  {
   "cell_type": "code",
   "execution_count": 19,
   "metadata": {
    "collapsed": false
   },
   "outputs": [
    {
     "name": "stdout",
     "output_type": "stream",
     "text": [
      "number of characters in the file: 2925\n"
     ]
    }
   ],
   "source": [
    "#obtiene la longitud de cada linea y luego las suma para\n",
    "#hallar numero de caracteres\n",
    "char_file = file_in.map(lambda x: len(x)).reduce(add)\n",
    "print('number of characters in the file: %s' % char_file)\n"
   ]
  },
  {
   "cell_type": "code",
   "execution_count": 26,
   "metadata": {
    "collapsed": false
   },
   "outputs": [],
   "source": [
    "#get words from the input\n",
    "words_split = file_in.flatMap(lambda x: re.split('\\W+', x.lower().strip()))\n",
    "#get words more than 3 character\n",
    "words = words_split.filter(lambda x: len(x) > 3)\n",
    "#map (word,1)\n",
    "words_count = words.map(lambda x: (x,1)).reduceByKey(add)\n"
   ]
  },
  {
   "cell_type": "code",
   "execution_count": 28,
   "metadata": {
    "collapsed": true
   },
   "outputs": [],
   "source": [
    "#change order of words_count (count ,words) and sort descending\n",
    "words_change = words_count.map(lambda x: (x[1],x[0])).sortByKey(False)"
   ]
  },
  {
   "cell_type": "code",
   "execution_count": 29,
   "metadata": {
    "collapsed": false
   },
   "outputs": [
    {
     "data": {
      "text/plain": [
       "[(7, u'management'),\n",
       " (5, u'operations'),\n",
       " (5, u'with'),\n",
       " (5, u'state'),\n",
       " (5, u'training'),\n",
       " (5, u'inventory'),\n",
       " (4, u'solutions'),\n",
       " (4, u'team'),\n",
       " (4, u'efforts'),\n",
       " (4, u'city'),\n",
       " (4, u'company'),\n",
       " (3, u'including'),\n",
       " (3, u'program'),\n",
       " (3, u'safety'),\n",
       " (3, u'background'),\n",
       " (3, u'production'),\n",
       " (3, u'solid'),\n",
       " (3, u'tracking'),\n",
       " (3, u'effective'),\n",
       " (2, u'managed')]"
      ]
     },
     "execution_count": 29,
     "metadata": {},
     "output_type": "execute_result"
    }
   ],
   "source": [
    "words_change.take(20)"
   ]
  },
  {
   "cell_type": "code",
   "execution_count": 30,
   "metadata": {
    "collapsed": true
   },
   "outputs": [],
   "source": [
    "% matplotlib inline\n",
    "import matplotlib.pyplot as plt"
   ]
  },
  {
   "cell_type": "code",
   "execution_count": 33,
   "metadata": {
    "collapsed": true
   },
   "outputs": [],
   "source": [
    "def histogramFunc(words):\n",
    "    count = map(lambda x: x[0],words)\n",
    "    word = map(lambda x: x[1],words)\n",
    "    #create histogram\n",
    "    plt.barh(range(len(count)), count,color = 'grey')\n",
    "    plt.yticks(range(len(count)), word)"
   ]
  },
  {
   "cell_type": "code",
   "execution_count": 34,
   "metadata": {
    "collapsed": false
   },
   "outputs": [
    {
     "data": {
      "image/png": "[encoded data removed]",
      "text/plain": [
       "<matplotlib.figure.Figure at 0x7fe6cc318250>"
      ]
     },
     "metadata": {},
     "output_type": "display_data"
    }
   ],
   "source": [
    "histogramFunc(words_change.take(15))"
   ]
  },
  {
   "cell_type": "code",
   "execution_count": null,
   "metadata": {
    "collapsed": true
   },
   "outputs": [],
   "source": []
  }
 ],
 "metadata": {
  "kernelspec": {
   "display_name": "Python 2",
   "language": "python",
   "name": "python2"
  },
  "language_info": {
   "codemirror_mode": {
    "name": "ipython",
    "version": 2
   },
   "file_extension": ".py",
   "mimetype": "text/x-python",
   "name": "python",
   "nbconvert_exporter": "python",
   "pygments_lexer": "ipython2",
   "version": "2.7.11"
  }
 },
 "nbformat": 4,
 "nbformat_minor": 0
}
