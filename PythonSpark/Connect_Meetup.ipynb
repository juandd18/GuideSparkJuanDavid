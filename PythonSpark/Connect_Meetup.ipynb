{
 "cells": [
  {
   "cell_type": "code",
   "execution_count": 2,
   "metadata": {
    "collapsed": false,
    "scrolled": false
   },
   "outputs": [],
   "source": [
    "import json\n",
    "import mimeparse\n",
    "import requests\n",
    "import urllib\n",
    "from pprint import pprint as pp"
   ]
  },
  {
   "cell_type": "code",
   "execution_count": 3,
   "metadata": {
    "collapsed": true
   },
   "outputs": [],
   "source": [
    "MEETUP_API_HOST = 'https://api.meetup.com'\n",
    "EVENTS_URL = MEETUP_API_HOST + '/2/events.json'\n",
    "MEMBERS_URL = MEETUP_API_HOST + '/2/members.json'\n",
    "GROUPS_URL = MEETUP_API_HOST + '/2/groups.json'\n",
    "RSVPS_URL = MEETUP_API_HOST + '/2/rsvps.json'\n",
    "PHOTOS_URL = MEETUP_API_HOST + '/2/photos.json'\n",
    "GROUP_URLNAME = 'London-Machine-Learning-Meetup'"
   ]
  },
  {
   "cell_type": "code",
   "execution_count": 6,
   "metadata": {
    "collapsed": false
   },
   "outputs": [],
   "source": [
    "class MeetupAPI(object):\n",
    "    \n",
    "#\"\"\"\"\n",
    "#Retrieves information about meetup.com\n",
    "#\"\"\"\n",
    "\n",
    "    def __init__(self, api_key, num_past_events=10, http_timeout=1,http_retries=2):\n",
    "        #\"\"\"\n",
    "        #Create a new instance of MeetupAPI\n",
    "        #\"\"\"\n",
    "        self._api_key = api_key\n",
    "        self._http_timeout = http_timeout\n",
    "        self._http_retries = http_retries\n",
    "        self._num_past_events = num_past_events\n",
    "\n",
    "    def get_past_events(self):\n",
    "        #\"\"\"\n",
    "        #Get past meetup events for a given meetup group\n",
    "        #\"\"\"\n",
    "        params = {'key': self._api_key,'group_urlname': GROUP_URLNAME,'status': 'past',\n",
    "        'desc': 'true'}\n",
    "        if self._num_past_events:\n",
    "            params['page'] = str(self._num_past_events)\n",
    "\n",
    "        query = urllib.urlencode(params)\n",
    "        url = '{0}?{1}'.format(EVENTS_URL, query)\n",
    "        response = requests.get(url, timeout=self._http_timeout)\n",
    "        data = response.json()['results']\n",
    "        return data\n",
    "\n",
    "    def get_members(self):\n",
    "        #\"\"\"\n",
    "        #Get meetup members for a given meetup group\n",
    "        #\"\"\"\n",
    "        params = {'key': self._api_key,'group_urlname': GROUP_URLNAME,'offset': '0',\n",
    "        'format': 'json','page': '100','order': 'name'}\n",
    "        query = urllib.urlencode(params)\n",
    "        url = '{0}?{1}'.format(MEMBERS_URL, query)\n",
    "        response = requests.get(url, timeout=self._http_timeout)\n",
    "        data = response.json()['results']\n",
    "        return data\n",
    "\n",
    "    def get_groups_by_member(self, member_id='38680722'):\n",
    "        #\"\"\"\n",
    "        #Get meetup groups for a given meetup member\n",
    "        #\"\"\"\n",
    "        params = {'key': self._api_key,'member_id': member_id,'offset': '0',\n",
    "        'format': 'json','page': '100','order': 'id'}\n",
    "\n",
    "        query = urllib.urlencode(params)\n",
    "        url = '{0}?{1}'.format(GROUPS_URL, query)\n",
    "        response = requests.get(url, timeout=self._http_timeout)\n",
    "        data = response.json()['results']\n",
    "        return data\n",
    "\n"
   ]
  },
  {
   "cell_type": "code",
   "execution_count": 7,
   "metadata": {
    "collapsed": false
   },
   "outputs": [
    {
     "name": "stdout",
     "output_type": "stream",
     "text": [
      "{u'created': 1428088152000,\n",
      " u'description': u'<p>Happy to announce the next Machine Learning Meetup with\\xa0<a href=\"http://www.iro.umontreal.ca/~bengioy/yoshua_en/index.html\">Yoshua Bengio</a>,\\xa0Full Professor of the\\xa0<a href=\"http://www.iro.umontreal.ca/?lang=en\">Department of Computer Science and Operations Research,</a>\\xa0head of the Machine Learning Laboratory (<a href=\"http://www.iro.umontreal.ca/%7Elisa/lab\">LISA</a>),\\xa0<a href=\"http://www.cifar.ca/\">CIFAR</a>\\xa0Program co-director of the CIFAR Neural Computation and Adaptive Perception program,\\xa0<a href=\"http://www.chairs.gc.ca/\">Canada Research Chair\\xa0</a>in\\xa0Statistical Learning Algorithms,\\xa0and he also holds the\\xa0<a href=\"http://www.nserc.ca/\">NSERC</a>-<a href=\"http://www.ubisoft.com/\">Ubisoft\\xa0</a>industrial chair.\\xa0</p> <p><b>Talk Synopsis:<br/></b></p> <p><b>Deep Learning Theory</b></p> <p>Although neural networks have long been considered lacking in theory and much remains to be done, theoretical evidence is mounting and will be discussed, to support distributed representations, depth of representation, the non-convexity of the training objective, and the probabilistic interpretation of learning algorithms (especially of the auto-encoder type, which were lacking one). The talk will focus on the intuitions behind these theoretical results.</p> <p><br/><b>Agenda:</b></p> <p>6.00: Welcome, pizzas, beers and networking (more to be confirmed soon)</p> <p>6.30: Talk\\xa0(more to be confirmed soon)</p>',\n",
      " u'event_url': u'http://www.meetup.com/London-Machine-Learning-Meetup/events/221601571/',\n",
      " u'group': {u'created': 1322826414000,\n",
      "            u'group_lat': 51.52000045776367,\n",
      "            u'group_lon': -0.18000000715255737,\n",
      "            u'id': 2894492,\n",
      "            u'join_mode': u'open',\n",
      "            u'name': u'London Machine Learning Meetup',\n",
      "            u'urlname': u'London-Machine-Learning-Meetup',\n",
      "            u'who': u'Machine Learning Enthusiasts'},\n",
      " u'headcount': 0,\n",
      " u'id': u'221601571',\n",
      " u'maybe_rsvp_count': 0,\n",
      " u'name': u'18th Machine Learning Meetup: Yoshua Bengio at UCL',\n",
      " u'rating': {u'average': 5, u'count': 3},\n",
      " u'rsvp_limit': 150,\n",
      " u'status': u'past',\n",
      " u'time': 1429117200000,\n",
      " u'updated': 1429188294000,\n",
      " u'utc_offset': 3600000,\n",
      " u'visibility': u'public',\n",
      " u'waitlist_count': 245,\n",
      " u'yes_rsvp_count': 145}\n"
     ]
    }
   ],
   "source": [
    "m = MeetupAPI(api_key='1f83f1b1f651e333e1b566f1322653')\n",
    "last_meetups = m.get_past_events()\n",
    "pp(last_meetups[5])"
   ]
  },
  {
   "cell_type": "code",
   "execution_count": null,
   "metadata": {
    "collapsed": true
   },
   "outputs": [],
   "source": []
  }
 ],
 "metadata": {
  "kernelspec": {
   "display_name": "Python 2",
   "language": "python",
   "name": "python2"
  },
  "language_info": {
   "codemirror_mode": {
    "name": "ipython",
    "version": 2
   },
   "file_extension": ".py",
   "mimetype": "text/x-python",
   "name": "python",
   "nbconvert_exporter": "python",
   "pygments_lexer": "ipython2",
   "version": "2.7.11"
  }
 },
 "nbformat": 4,
 "nbformat_minor": 0
}
