{
 "cells": [
  {
   "cell_type": "code",
   "execution_count": 2,
   "metadata": {
    "collapsed": false
   },
   "outputs": [],
   "source": [
    "sqlContext = SQLContext(sc)\n"
   ]
  },
  {
   "cell_type": "code",
   "execution_count": 6,
   "metadata": {
    "collapsed": false
   },
   "outputs": [],
   "source": [
    "csv_in = '/home/juandavid/Documentos/archivosIpython/Chpater3/data/twtr15051401.csv'\n",
    "\n",
    "spdf_in = sqlContext.read.format('com.databricks.spark.csv').options(delimiter=\",\").options(header=\"true\").load(csv_in)"
   ]
  },
  {
   "cell_type": "code",
   "execution_count": 7,
   "metadata": {
    "collapsed": false
   },
   "outputs": [
    {
     "name": "stdout",
     "output_type": "stream",
     "text": [
      "root\n",
      " |-- id: string (nullable = true)\n",
      " |-- created_at: string (nullable = true)\n",
      " |-- user_id: string (nullable = true)\n",
      " |-- user_name: string (nullable = true)\n",
      " |-- tweet_text: string (nullable = true)\n",
      " |-- url: string (nullable = true)\n",
      "\n"
     ]
    }
   ],
   "source": [
    "spdf_in.printSchema()"
   ]
  },
  {
   "cell_type": "code",
   "execution_count": 9,
   "metadata": {
    "collapsed": false
   },
   "outputs": [
    {
     "data": {
      "text/plain": [
       "['id', 'created_at', 'user_id', 'user_name', 'tweet_text', 'url']"
      ]
     },
     "execution_count": 9,
     "metadata": {},
     "output_type": "execute_result"
    }
   ],
   "source": [
    "spdf_in.columns"
   ]
  },
  {
   "cell_type": "code",
   "execution_count": 10,
   "metadata": {
    "collapsed": false
   },
   "outputs": [
    {
     "name": "stdout",
     "output_type": "stream",
     "text": [
      "+------------------+-------------------+----------+-----------------+--------------------+--------------------+\n",
      "|                id|         created_at|   user_id|        user_name|          tweet_text|                 url|\n",
      "+------------------+-------------------+----------+-----------------+--------------------+--------------------+\n",
      "|682887613808775168|2016-01-01 11:34:29| 598221206|        Omar Agha|RT @Talend: 2016 ...|http://bit.ly/1OI...|\n",
      "|682886743159386112|2016-01-01 11:31:01|4516811547|      Talks4Nerds|\"Yahoo! Benchmark...|http://bit.ly/1R3...|\n",
      "|682876632688885760|2016-01-01 10:50:51|3588748576|Eccella Solutions|RT @Talend: 2016 ...|http://bit.ly/1OI...|\n",
      "+------------------+-------------------+----------+-----------------+--------------------+--------------------+\n",
      "\n"
     ]
    }
   ],
   "source": [
    "spdf_in.show()"
   ]
  },
  {
   "cell_type": "code",
   "execution_count": null,
   "metadata": {
    "collapsed": true
   },
   "outputs": [],
   "source": []
  }
 ],
 "metadata": {
  "kernelspec": {
   "display_name": "Python 2",
   "language": "python",
   "name": "python2"
  },
  "language_info": {
   "codemirror_mode": {
    "name": "ipython",
    "version": 2
   },
   "file_extension": ".py",
   "mimetype": "text/x-python",
   "name": "python",
   "nbconvert_exporter": "python",
   "pygments_lexer": "ipython2",
   "version": "2.7.11"
  }
 },
 "nbformat": 4,
 "nbformat_minor": 0
}
