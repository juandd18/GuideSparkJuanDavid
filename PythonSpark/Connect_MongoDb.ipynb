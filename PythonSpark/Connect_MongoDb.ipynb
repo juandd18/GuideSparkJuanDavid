{
 "cells": [
  {
   "cell_type": "code",
   "execution_count": 1,
   "metadata": {
    "collapsed": true
   },
   "outputs": [],
   "source": [
    "from pymongo import MongoClient as MCli"
   ]
  },
  {
   "cell_type": "code",
   "execution_count": 2,
   "metadata": {
    "collapsed": true
   },
   "outputs": [],
   "source": [
    "class IO_mongo(object):\n",
    "    conn={'host':'localhost', 'ip':'27017'}\n",
    "    \n",
    "    def __init__(self, db='twtr_db', coll='twtr_coll', **conn ):\n",
    "        # Connects to the MongoDB server\n",
    "        self.client = MCli(**conn)\n",
    "        self.db = self.client[db]\n",
    "        self.coll = self.db[coll]\n",
    "    \n",
    "    def save(self, data):\n",
    "        # Insert to collection in db\n",
    "        return self.coll.insert(data)\n",
    "\n",
    "    def load(self, return_cursor=False, criteria=None, projection=None):\n",
    "        if criteria is None:\n",
    "            criteria = {}\n",
    "        if projection is None:\n",
    "            cursor = self.coll.find(criteria)\n",
    "        else:\n",
    "            cursor = self.coll.find(criteria, projection)\n",
    "        \n",
    "        # Return a cursor for large amounts of data\n",
    "        if return_cursor:\n",
    "            return cursor\n",
    "        else:\n",
    "            return [ item for item in cursor ]\n",
    "\n",
    "\n",
    "\n"
   ]
  },
  {
   "cell_type": "code",
   "execution_count": null,
   "metadata": {
    "collapsed": true
   },
   "outputs": [],
   "source": []
  }
 ],
 "metadata": {
  "kernelspec": {
   "display_name": "Python 2",
   "language": "python",
   "name": "python2"
  },
  "language_info": {
   "codemirror_mode": {
    "name": "ipython",
    "version": 2
   },
   "file_extension": ".py",
   "mimetype": "text/x-python",
   "name": "python",
   "nbconvert_exporter": "python",
   "pygments_lexer": "ipython2",
   "version": "2.7.11"
  }
 },
 "nbformat": 4,
 "nbformat_minor": 0
}
